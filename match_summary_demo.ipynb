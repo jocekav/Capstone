{
 "cells": [
  {
   "cell_type": "code",
   "execution_count": 1,
   "metadata": {},
   "outputs": [],
   "source": [
    "import requests\n",
    "import json\n",
    "import numpy as np"
   ]
  },
  {
   "cell_type": "code",
   "execution_count": 5,
   "metadata": {},
   "outputs": [],
   "source": [
    "rose = '31nlzphmfjcsll7snfg3bobiwz2e'\n",
    "joce = '53fweig90aowe9793htpy2t4o'\n",
    "yilin = '97hzue47gkhwiy8lxiv5dgh6s'"
   ]
  },
  {
   "cell_type": "code",
   "execution_count": 6,
   "metadata": {},
   "outputs": [],
   "source": [
    "# get user-created public playlist ids\n",
    "def getPlaylists(user_id):\n",
    "    AUTH_URL = 'https://accounts.spotify.com/api/token'\n",
    "    auth_response = requests.post(AUTH_URL, {\n",
    "        'grant_type': 'client_credentials',\n",
    "        'client_id': '64d88f30bd6e47d5a99e11985fdd0bdb',\n",
    "        'client_secret': 'aa57afecfba4466bb0caeae430352b4c',})\n",
    "    auth_response_data = auth_response.json()\n",
    "    access_token = auth_response_data['access_token']\n",
    "    headers = {'Authorization': 'Bearer {token}'.format(token=access_token)}\n",
    "    BASE_URL = 'https://api.spotify.com/v1/users/'\n",
    "    # header = spotifyLogin.auth_head\n",
    "    response = requests.get(BASE_URL + user_id + '/playlists', headers = headers)\n",
    "    playlists = response.json()\n",
    "    # add parsing here\n",
    "    x = json.dumps(playlists)\n",
    "    y = json.loads(x)\n",
    "    length = len(y['items'])\n",
    "    uris = []\n",
    "    for i in range(length):\n",
    "        uriall = y['items'][i]['uri']\n",
    "        uri = uriall.split(':')[2]\n",
    "        uris.append(uri)\n",
    "    return(uris)"
   ]
  },
  {
   "cell_type": "code",
   "execution_count": 7,
   "metadata": {},
   "outputs": [
    {
     "data": {
      "text/plain": [
       "['5UXhz5GZkCwvtr5ijIg5Up', '7hO8sSVMJIsCYmmHwllEQS']"
      ]
     },
     "execution_count": 7,
     "metadata": {},
     "output_type": "execute_result"
    }
   ],
   "source": [
    "getPlaylists(rose)"
   ]
  },
  {
   "cell_type": "code",
   "execution_count": 8,
   "metadata": {},
   "outputs": [],
   "source": [
    "# given a list of playlist ids, output a list of song ids in the playlists\n",
    "def getSongInLists(playlist_id):\n",
    "    AUTH_URL = 'https://accounts.spotify.com/api/token'\n",
    "    auth_response = requests.post(AUTH_URL, {\n",
    "        'grant_type': 'client_credentials',\n",
    "        'client_id': '64d88f30bd6e47d5a99e11985fdd0bdb',\n",
    "        'client_secret': 'aa57afecfba4466bb0caeae430352b4c',})\n",
    "    auth_response_data = auth_response.json()\n",
    "    access_token = auth_response_data['access_token']\n",
    "    headers = {'Authorization': 'Bearer {token}'.format(token=access_token)}\n",
    "    BASE_URL = 'https://api.spotify.com/v1/playlists/'\n",
    "    songs = []\n",
    "    for id in playlist_id:\n",
    "        response = requests.get(BASE_URL + id + '/tracks', headers = headers) \n",
    "        raw = response.json()\n",
    "        # add parsing here\n",
    "        x = json.dumps(raw)\n",
    "        y = json.loads(x)\n",
    "        length = len(y['items'])\n",
    "        for i in range(length):\n",
    "            songall = y['items'][i]['track']['uri']\n",
    "            song = songall.split(':')[2]\n",
    "            songs.append(song)\n",
    "    return(songs)"
   ]
  },
  {
   "cell_type": "code",
   "execution_count": 25,
   "metadata": {},
   "outputs": [],
   "source": [
    "# given a list of playlist ids, output a list of artist ids in the playlists\n",
    "def getArtistInLists(playlist_id):\n",
    "    AUTH_URL = 'https://accounts.spotify.com/api/token'\n",
    "    auth_response = requests.post(AUTH_URL, {\n",
    "        'grant_type': 'client_credentials',\n",
    "        'client_id': '64d88f30bd6e47d5a99e11985fdd0bdb',\n",
    "        'client_secret': 'aa57afecfba4466bb0caeae430352b4c',})\n",
    "    auth_response_data = auth_response.json()\n",
    "    access_token = auth_response_data['access_token']\n",
    "    headers = {'Authorization': 'Bearer {token}'.format(token=access_token)}\n",
    "    BASE_URL = 'https://api.spotify.com/v1/playlists/'\n",
    "    artists = []\n",
    "    for id in playlist_id:\n",
    "        response = requests.get(BASE_URL + id + '/tracks', headers = headers) \n",
    "        raw = response.json()\n",
    "        # add parsing here\n",
    "        x = json.dumps(raw)\n",
    "        y = json.loads(x)\n",
    "        length = len(y['items'])\n",
    "        for i in range(length):\n",
    "            artistall = y['items'][i]['track']['artists'][0]['uri']\n",
    "            artist = artistall.split(':')[2]\n",
    "            artists.append(artist)\n",
    "    return artists"
   ]
  },
  {
   "cell_type": "code",
   "execution_count": 30,
   "metadata": {},
   "outputs": [],
   "source": [
    "# given two user ids, output a list of overlapping songs\n",
    "def jointPlaylistV1(user1,user2):\n",
    "    user1ids = getPlaylists(user1)\n",
    "    user2ids = getPlaylists(user2)\n",
    "    user1songs = getSongInLists(user1ids)\n",
    "    user2songs = getSongInLists(user2ids)\n",
    "    joint = list(set(user1songs).intersection(user2songs))\n",
    "    return joint"
   ]
  },
  {
   "cell_type": "code",
   "execution_count": 28,
   "metadata": {},
   "outputs": [
    {
     "data": {
      "text/plain": [
       "['4N0TP4Rmj6QQezWV88ARNJ', '3koCCeSaVUyrRo3N2gHrd8']"
      ]
     },
     "execution_count": 28,
     "metadata": {},
     "output_type": "execute_result"
    }
   ],
   "source": [
    "jointPlaylistV1(rose,yilin)\n",
    "# print: You both like these songs: "
   ]
  },
  {
   "cell_type": "code",
   "execution_count": 31,
   "metadata": {},
   "outputs": [
    {
     "data": {
      "text/plain": [
       "[]"
      ]
     },
     "execution_count": 31,
     "metadata": {},
     "output_type": "execute_result"
    }
   ],
   "source": [
    "jointPlaylistV1(joce, yilin)"
   ]
  },
  {
   "cell_type": "code",
   "execution_count": 36,
   "metadata": {},
   "outputs": [],
   "source": [
    "# given two user ids with no song overlap, output a list of overlapping artists' songs\n",
    "def jointPlaylistV2(user1,user2):\n",
    "    user1ids = getPlaylists(user1)\n",
    "    user2ids = getPlaylists(user2)\n",
    "    user1songs = getSongInLists(user1ids)\n",
    "    user2songs = getSongInLists(user2ids)\n",
    "    user1artist = getArtistInLists(user1ids)\n",
    "    user2artist = getArtistInLists(user2ids)\n",
    "    jointartist = list(set(user1artist).intersection(user2artist))\n",
    "    # display message: You both like these aritsts: jointartist\n",
    "    joint = []\n",
    "    for i in jointartist:\n",
    "        joint.append(user1songs[user1artist.index(i)])\n",
    "        joint.append(user2songs[user2artist.index(i)])\n",
    "    return joint"
   ]
  },
  {
   "cell_type": "code",
   "execution_count": 37,
   "metadata": {},
   "outputs": [
    {
     "data": {
      "text/plain": [
       "['1h2xVEoJORqrg71HocgqXd',\n",
       " '647D8WS57rPpIM1AXXHpHJ',\n",
       " '4LloVtxNZpeh7q7xdi1DQc',\n",
       " '701DK0It9f7iurRnzKvF0y',\n",
       " '6zC0mpGYwbNTpk9SKwh08f',\n",
       " '7DiaNCPgH5dJ1cJ925jTAA',\n",
       " '0twcEBA8v8nCfyoOoAOTj9',\n",
       " '2iJgSdIk6Re4tphu6E3GJT',\n",
       " '62nYkaIBesfvQSSwTjPnYS',\n",
       " '1wpS3lQFtfD2Bmdvhp0chI']"
      ]
     },
     "execution_count": 37,
     "metadata": {},
     "output_type": "execute_result"
    }
   ],
   "source": [
    "jointPlaylistV2(joce, yilin)"
   ]
  },
  {
   "cell_type": "code",
   "execution_count": 65,
   "metadata": {},
   "outputs": [],
   "source": [
    "# given a list of artist ids, output a list of genres associated with the artists\n",
    "def getArtistGenre(artist_id):\n",
    "    AUTH_URL = 'https://accounts.spotify.com/api/token'\n",
    "    auth_response = requests.post(AUTH_URL, {\n",
    "        'grant_type': 'client_credentials',\n",
    "        'client_id': '64d88f30bd6e47d5a99e11985fdd0bdb',\n",
    "        'client_secret': 'aa57afecfba4466bb0caeae430352b4c',})\n",
    "    auth_response_data = auth_response.json()\n",
    "    access_token = auth_response_data['access_token']\n",
    "    headers = {'Authorization': 'Bearer {token}'.format(token=access_token)}\n",
    "    BASE_URL = 'https://api.spotify.com/v1/artists/'\n",
    "    genres = []\n",
    "    for id in artist_id:\n",
    "        response = requests.get(BASE_URL + id, headers = headers) \n",
    "        raw = response.json()\n",
    "        genre = raw['genres']\n",
    "        genres = genres + genre\n",
    "    return genres"
   ]
  },
  {
   "cell_type": "code",
   "execution_count": 66,
   "metadata": {},
   "outputs": [],
   "source": [
    "# report overlapping genre (pull top songs from these genre?)\n",
    "def jointPlaylistV3(user1,user2):\n",
    "    user1ids = getPlaylists(user1)\n",
    "    user2ids = getPlaylists(user2)\n",
    "    user1artist = getArtistInLists(user1ids)\n",
    "    user2artist = getArtistInLists(user2ids)\n",
    "    user1genre = getArtistGenre(user1artist)\n",
    "    user2genre = getArtistGenre(user2artist)\n",
    "    jointgenre = list(set(user1genre).intersection(user2genre))\n",
    "    # display message: You both like these genres: jointgenre\n",
    "    return jointgenre"
   ]
  },
  {
   "cell_type": "code",
   "execution_count": 59,
   "metadata": {},
   "outputs": [
    {
     "name": "stdout",
     "output_type": "stream",
     "text": [
      "62\n",
      "141\n"
     ]
    },
    {
     "data": {
      "text/plain": [
       "['southern rock',\n",
       " 'quiet storm',\n",
       " 'soul',\n",
       " 'folk rock',\n",
       " 'alternative rock',\n",
       " 'electric blues',\n",
       " 'new wave pop',\n",
       " 'dance pop',\n",
       " 'hard rock',\n",
       " 'country rock',\n",
       " 'mellow gold',\n",
       " 'art pop',\n",
       " 'modern rock',\n",
       " 'motown',\n",
       " 'permanent wave',\n",
       " 'indie rock',\n",
       " 'rock',\n",
       " 'hi-nrg',\n",
       " 'singer-songwriter',\n",
       " 'blues rock',\n",
       " 'psychedelic rock',\n",
       " 'alternative dance',\n",
       " 'soft rock',\n",
       " 'british invasion',\n",
       " 'synthpop',\n",
       " 'new wave',\n",
       " 'indie r&b',\n",
       " 'modern blues rock',\n",
       " 'symphonic rock',\n",
       " 'new romantic',\n",
       " 'art rock',\n",
       " 'jazz funk',\n",
       " 'disco',\n",
       " 'classic rock',\n",
       " 'funk',\n",
       " 'album rock']"
      ]
     },
     "execution_count": 59,
     "metadata": {},
     "output_type": "execute_result"
    }
   ],
   "source": [
    "jointPlaylistV3(rose,yilin)"
   ]
  },
  {
   "cell_type": "code",
   "execution_count": 78,
   "metadata": {},
   "outputs": [],
   "source": [
    "# calculate a match score between two users\n",
    "def matchsummary(user1,user2):\n",
    "    v1 = len(jointPlaylistV1(user1,user2))\n",
    "    v2 = len(jointPlaylistV2(user1,user2))\n",
    "    v3 = len(jointPlaylistV3(user1,user2))\n",
    "    user1ids = getPlaylists(user1)\n",
    "    user2ids = getPlaylists(user2)\n",
    "    user1artist = getArtistInLists(user1ids)\n",
    "    user2artist = getArtistInLists(user2ids)\n",
    "    song1 = len(getSongInLists(user1ids))\n",
    "    song2 = len(getSongInLists(user2ids))\n",
    "    artist1 = len(getArtistInLists(user1ids))\n",
    "    artist2 = len(getArtistInLists(user2ids))\n",
    "    genre1 = len(set(getArtistGenre(user1artist)))\n",
    "    genre2 = len(set(getArtistGenre(user2artist)))\n",
    "    score1 = v1 / song1 + v2 / artist1 + v3 / genre1\n",
    "    score2 = v1 / song2 + v2 / artist2 + v3 / genre2\n",
    "    score = (score1 + score2) /2\n",
    "    return score"
   ]
  },
  {
   "cell_type": "code",
   "execution_count": 79,
   "metadata": {},
   "outputs": [
    {
     "data": {
      "text/plain": [
       "0.6482453130079833"
      ]
     },
     "execution_count": 79,
     "metadata": {},
     "output_type": "execute_result"
    }
   ],
   "source": [
    "matchsummary(rose,yilin)"
   ]
  },
  {
   "cell_type": "code",
   "execution_count": 80,
   "metadata": {},
   "outputs": [
    {
     "data": {
      "text/plain": [
       "0.3189713593656325"
      ]
     },
     "execution_count": 80,
     "metadata": {},
     "output_type": "execute_result"
    }
   ],
   "source": [
    "matchsummary(joce,yilin)"
   ]
  },
  {
   "cell_type": "code",
   "execution_count": 81,
   "metadata": {},
   "outputs": [
    {
     "data": {
      "text/plain": [
       "0.5705013454122895"
      ]
     },
     "execution_count": 81,
     "metadata": {},
     "output_type": "execute_result"
    }
   ],
   "source": [
    "matchsummary(joce,rose)"
   ]
  },
  {
   "cell_type": "code",
   "execution_count": null,
   "metadata": {},
   "outputs": [],
   "source": []
  }
 ],
 "metadata": {
  "interpreter": {
   "hash": "aee8b7b246df8f9039afb4144a1f6fd8d2ca17a180786b69acc140d282b71a49"
  },
  "kernelspec": {
   "display_name": "Python 3.9.7 64-bit",
   "name": "python3"
  },
  "language_info": {
   "codemirror_mode": {
    "name": "ipython",
    "version": 3
   },
   "file_extension": ".py",
   "mimetype": "text/x-python",
   "name": "python",
   "nbconvert_exporter": "python",
   "pygments_lexer": "ipython3",
   "version": "3.9.7"
  },
  "orig_nbformat": 4
 },
 "nbformat": 4,
 "nbformat_minor": 2
}
