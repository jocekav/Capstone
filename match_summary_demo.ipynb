{
 "cells": [
  {
   "cell_type": "code",
   "execution_count": 17,
   "metadata": {},
   "outputs": [],
   "source": [
    "import requests\n",
    "import json\n",
    "import numpy as np\n",
    "import uuid"
   ]
  },
  {
   "cell_type": "code",
   "execution_count": 27,
   "metadata": {},
   "outputs": [],
   "source": [
    "rose = '31nlzphmfjcsll7snfg3bobiwz2e'\n",
    "joce = '53fweig90aowe9793htpy2t4o'\n",
    "yilin = '97hzue47gkhwiy8lxiv5dgh6s'"
   ]
  },
  {
   "cell_type": "code",
   "execution_count": 45,
   "metadata": {},
   "outputs": [],
   "source": [
    "# get user-created public playlist ids\n",
    "def getPlaylists(user_id):\n",
    "    AUTH_URL = 'https://accounts.spotify.com/api/token'\n",
    "    auth_response = requests.post(AUTH_URL, {\n",
    "        'grant_type': 'client_credentials',\n",
    "        'client_id': '64d88f30bd6e47d5a99e11985fdd0bdb',\n",
    "        'client_secret': 'aa57afecfba4466bb0caeae430352b4c',})\n",
    "    auth_response_data = auth_response.json()\n",
    "    print(auth_response_data)\n",
    "    access_token = auth_response_data['access_token']\n",
    "    headers = {'Authorization': 'Bearer {token}'.format(token=access_token)}\n",
    "    BASE_URL = 'https://api.spotify.com/v1/users/'\n",
    "    # header = spotifyLogin.auth_head\n",
    "    response = requests.get(BASE_URL + user_id + '/playlists', headers = headers)\n",
    "    playlists = response.json()\n",
    "    # add parsing here\n",
    "    x = json.dumps(playlists)\n",
    "    y = json.loads(x)\n",
    "    length = len(y['items'])\n",
    "    uris = []\n",
    "    for i in range(length):\n",
    "        uriall = y['items'][i]['uri']\n",
    "        uri = uriall.split(':')[2]\n",
    "        uris.append(uri)\n",
    "    print(uris)\n",
    "    # playlist_fn = '/Users/jocekav/Documents/GitHub/Capstone/app/txt/' + str(uuid.uuid4()) + '_playlists_yilin.txt'\n",
    "    # np.savetxt(playlist_fn, uris, delimiter=\" \", fmt=\"%s\")\n",
    "    return(uris)"
   ]
  },
  {
   "cell_type": "code",
   "execution_count": 46,
   "metadata": {},
   "outputs": [
    {
     "name": "stdout",
     "output_type": "stream",
     "text": [
      "{'access_token': 'BQCJKjYBy8r56c0QrfMnCJ7uTrlh2hvLLtRrvyZHEK0DUro53lsg_GlF4-lmZY6fDfFXbE7IYo39crICIxk', 'token_type': 'Bearer', 'expires_in': 3600}\n",
      "['5UXhz5GZkCwvtr5ijIg5Up', '7hO8sSVMJIsCYmmHwllEQS']\n"
     ]
    }
   ],
   "source": [
    "uris = getPlaylists(rose)"
   ]
  },
  {
   "cell_type": "code",
   "execution_count": 47,
   "metadata": {},
   "outputs": [],
   "source": [
    "def getSongInLists(playlist_id):\n",
    "    AUTH_URL = 'https://accounts.spotify.com/api/token'\n",
    "    auth_response = requests.post(AUTH_URL, {\n",
    "        'grant_type': 'client_credentials',\n",
    "        'client_id': '64d88f30bd6e47d5a99e11985fdd0bdb',\n",
    "        'client_secret': 'aa57afecfba4466bb0caeae430352b4c',})\n",
    "    auth_response_data = auth_response.json()\n",
    "    print(auth_response_data)\n",
    "    access_token = auth_response_data['access_token']\n",
    "    headers = {'Authorization': 'Bearer {token}'.format(token=access_token)}\n",
    "    BASE_URL = 'https://api.spotify.com/v1/playlists/'\n",
    "    songs = []\n",
    "    for id in playlist_id:\n",
    "        response = requests.get(BASE_URL + id + '/tracks', headers = headers) \n",
    "        raw = response.json()\n",
    "        # add parsing here\n",
    "        x = json.dumps(raw)\n",
    "        y = json.loads(x)\n",
    "        length = len(y['items'])\n",
    "        for i in range(length):\n",
    "            songall = y['items'][i]['track']['uri']\n",
    "            song = songall.split(':')[2]\n",
    "            songs.append(song)\n",
    "    \n",
    "    # playlist_fn = '/Users/jocekav/Documents/GitHub/Capstone/app/txt/' + str(uuid.uuid4()) + '_songs_yilin.txt'\n",
    "    # np.savetxt(playlist_fn, songs, delimiter=\" \", fmt=\"%s\")\n",
    "    return(songs)"
   ]
  },
  {
   "cell_type": "code",
   "execution_count": 48,
   "metadata": {},
   "outputs": [
    {
     "name": "stdout",
     "output_type": "stream",
     "text": [
      "{'access_token': 'BQAE12k4trYJ45E5lIsSvYAkCMJaYGtE6y6V9Kf_t60LiL-eA3F45LuN_8EpMnriGoPSMxTmP4Ri3_raQG0', 'token_type': 'Bearer', 'expires_in': 3600}\n"
     ]
    }
   ],
   "source": [
    "songs = getSongInLists(uris)"
   ]
  },
  {
   "cell_type": "code",
   "execution_count": 49,
   "metadata": {},
   "outputs": [],
   "source": [
    "# given a list of playlist ids, output a list of artist ids in the playlists\n",
    "def getArtistInLists(playlist_id):\n",
    "    AUTH_URL = 'https://accounts.spotify.com/api/token'\n",
    "    auth_response = requests.post(AUTH_URL, {\n",
    "        'grant_type': 'client_credentials',\n",
    "        'client_id': '64d88f30bd6e47d5a99e11985fdd0bdb',\n",
    "        'client_secret': 'aa57afecfba4466bb0caeae430352b4c',})\n",
    "    auth_response_data = auth_response.json()\n",
    "    access_token = auth_response_data['access_token']\n",
    "    headers = {'Authorization': 'Bearer {token}'.format(token=access_token)}\n",
    "    BASE_URL = 'https://api.spotify.com/v1/playlists/'\n",
    "    artists = []\n",
    "    for id in playlist_id:\n",
    "        response = requests.get(BASE_URL + id + '/tracks', headers = headers) \n",
    "        raw = response.json()\n",
    "        # add parsing here\n",
    "        x = json.dumps(raw)\n",
    "        y = json.loads(x)\n",
    "        length = len(y['items'])\n",
    "        for i in range(length):\n",
    "            artistall = y['items'][i]['track']['artists'][0]['uri']\n",
    "            artist = artistall.split(':')[2]\n",
    "            artists.append(artist)\n",
    "    \n",
    "    # playlist_fn = '/Users/jocekav/Documents/GitHub/Capstone/app/txt/' + str(uuid.uuid4()) + '_artists_yilin.txt'\n",
    "    # np.savetxt(playlist_fn, artists, delimiter=\" \", fmt=\"%s\")\n",
    "    return artists"
   ]
  },
  {
   "cell_type": "code",
   "execution_count": 50,
   "metadata": {},
   "outputs": [],
   "source": [
    "artists = getArtistInLists(uris)"
   ]
  },
  {
   "cell_type": "code",
   "execution_count": 51,
   "metadata": {},
   "outputs": [],
   "source": [
    "# given two user ids, output a list of overlapping songs\n",
    "def jointPlaylistV1(user1,user2):\n",
    "    user1ids = getPlaylists(user1)\n",
    "    user2ids = getPlaylists(user2)\n",
    "    user1songs = getSongInLists(user1ids)\n",
    "    user2songs = getSongInLists(user2ids)\n",
    "    joint = list(set(user1songs).intersection(user2songs))\n",
    "    return joint"
   ]
  },
  {
   "cell_type": "code",
   "execution_count": 52,
   "metadata": {},
   "outputs": [
    {
     "name": "stdout",
     "output_type": "stream",
     "text": [
      "['6rEJ6ncZKq9EM3TwyMhTDo', '0o3HJmXnQPRX4jymsmk3sS', '3p2wS6G159mBIU50xl7uvc', '04RcDL1mbjcVLMLqBOjkeX', '6zgtBUEkAfilJ2YEOvNexR', '0CaBBQsaAiRHhiLmzi7ZRp', '6hQszXJIYhtjmSTmDqZpeU', '6yBbmHFTxihIDFAerzDMGi', '5CQ30WqJwcep0pYcV4AMNc', '2zYzyRzz6pRmhPzyfMEC8s', '7aE4kkYnS5zbsN4XFVRII6', '3VlifRGiFseYU1z0ShSYQ7', '7j74lucZ59vqN67Ipe2ZcY', '4RvWPyQ5RL0ao9LPZeSouE', '2WfaOiMkCvy7F5fcp2zZ8L', '0cGG2EouYCEEC3xfa0tDFV', '1OOtq8tRnDM8kG2gqUPjAj', '1JSTJqkT5qHq8MDJnJbRE1', '7N3PAbqfTjSEU1edb2tY8j', '4cOdK2wGLETKBW3PvgPWqT', '4N0TP4Rmj6QQezWV88ARNJ', '3koCCeSaVUyrRo3N2gHrd8', '1ChulFMnwxoD74Me8eX2TU', '44aTAUBF0g6sMkMNE8I5kd']\n"
     ]
    },
    {
     "data": {
      "text/plain": [
       "['3koCCeSaVUyrRo3N2gHrd8', '4N0TP4Rmj6QQezWV88ARNJ']"
      ]
     },
     "execution_count": 52,
     "metadata": {},
     "output_type": "execute_result"
    }
   ],
   "source": [
    "my_file = open(\"app/txt/616b33f6-12af-45b5-91a9-bf0fd23da060_songs_rose.txt\", \"r\")\n",
    "user1_songs = my_file.read()\n",
    "user1_songs = user1_songs.split(\"\\n\")[:-1]\n",
    "print(user1_songs)\n",
    "my_file.close()\n",
    "\n",
    "my_file = open(\"app/txt/7ee6bd08-a7dd-4ced-a6d8-79e07435a866_songs_yilin.txt\", \"r\")\n",
    "user2_songs = my_file.read()\n",
    "user2_songs = user2_songs.split(\"\\n\")[:-1]\n",
    "my_file.close()\n",
    "\n",
    "joint = list(set(user1_songs).intersection(user2_songs))\n",
    "joint"
   ]
  },
  {
   "cell_type": "code",
   "execution_count": 53,
   "metadata": {},
   "outputs": [
    {
     "name": "stdout",
     "output_type": "stream",
     "text": [
      "{'access_token': 'BQBiILrvGZxv53OotU_IIHql0MCpg35MVn462as57-pnqjlUDswHsyAClLXZsKmWht1fiwlz5l7eNPgtjwU', 'token_type': 'Bearer', 'expires_in': 3600}\n",
      "['5UXhz5GZkCwvtr5ijIg5Up', '7hO8sSVMJIsCYmmHwllEQS']\n",
      "{'access_token': 'BQDU9mjPmnfJ_RNyhF0JdLQSpY0yuiOh05niFlrqzTqSMq2_VVx33r22E-Y7HdG4MAHAyBwGO_ulIlq2f0A', 'token_type': 'Bearer', 'expires_in': 3600}\n",
      "['7DqCEiP3S72JxFp6NOsM83', '0B3PVR6Qctbi32oNIOwM4x', '41xsAoKL3nPqEoiFtuxDy3', '0lMJhMLGRd82cQSACoTzkF', '2PrmuYTD7VUwYzPcQ9wIcQ', '3GyX4u4OtxtlcapuEn2pRw']\n",
      "{'access_token': 'BQCZlD6Jv2tFXNxDUP-CNFfAbLxdPo45a71n6V7_0Q55g4hC2XCKwVtEzhY4h0-sO6IzEy-aD8CjXcuRQ0w', 'token_type': 'Bearer', 'expires_in': 3600}\n",
      "{'access_token': 'BQB3niQIRO1KN1X3F0SBt0kJZCFkmDSyPMMkn-7a1wlBi3Prv_QGhEqLqeNv-h0TiNWxZ1-rBUkimQGf-VU', 'token_type': 'Bearer', 'expires_in': 3600}\n"
     ]
    },
    {
     "data": {
      "text/plain": [
       "['3koCCeSaVUyrRo3N2gHrd8', '4N0TP4Rmj6QQezWV88ARNJ']"
      ]
     },
     "execution_count": 53,
     "metadata": {},
     "output_type": "execute_result"
    }
   ],
   "source": [
    "jointPlaylistV1(rose,yilin)\n",
    "# print: You both like these songs: "
   ]
  },
  {
   "cell_type": "code",
   "execution_count": 31,
   "metadata": {},
   "outputs": [
    {
     "data": {
      "text/plain": [
       "[]"
      ]
     },
     "execution_count": 31,
     "metadata": {},
     "output_type": "execute_result"
    }
   ],
   "source": [
    "jointPlaylistV1(joce, yilin)"
   ]
  },
  {
   "cell_type": "code",
   "execution_count": 54,
   "metadata": {},
   "outputs": [],
   "source": [
    "# given two user ids with no song overlap, output a list of overlapping artists' songs\n",
    "def jointPlaylistV2(user1,user2):\n",
    "    user1ids = getPlaylists(user1)\n",
    "    user2ids = getPlaylists(user2)\n",
    "    user1songs = getSongInLists(user1ids)\n",
    "    user2songs = getSongInLists(user2ids)\n",
    "    user1artist = getArtistInLists(user1ids)\n",
    "    user2artist = getArtistInLists(user2ids)\n",
    "    jointartist = list(set(user1artist).intersection(user2artist))\n",
    "    # display message: You both like these aritsts: jointartist\n",
    "    joint = []\n",
    "    for i in jointartist:\n",
    "        joint.append(user1songs[user1artist.index(i)])\n",
    "        joint.append(user2songs[user2artist.index(i)])\n",
    "    return joint"
   ]
  },
  {
   "cell_type": "code",
   "execution_count": 37,
   "metadata": {},
   "outputs": [
    {
     "data": {
      "text/plain": [
       "['1h2xVEoJORqrg71HocgqXd',\n",
       " '647D8WS57rPpIM1AXXHpHJ',\n",
       " '4LloVtxNZpeh7q7xdi1DQc',\n",
       " '701DK0It9f7iurRnzKvF0y',\n",
       " '6zC0mpGYwbNTpk9SKwh08f',\n",
       " '7DiaNCPgH5dJ1cJ925jTAA',\n",
       " '0twcEBA8v8nCfyoOoAOTj9',\n",
       " '2iJgSdIk6Re4tphu6E3GJT',\n",
       " '62nYkaIBesfvQSSwTjPnYS',\n",
       " '1wpS3lQFtfD2Bmdvhp0chI']"
      ]
     },
     "execution_count": 37,
     "metadata": {},
     "output_type": "execute_result"
    }
   ],
   "source": [
    "jointPlaylistV2(joce, yilin)"
   ]
  },
  {
   "cell_type": "code",
   "execution_count": 55,
   "metadata": {},
   "outputs": [],
   "source": [
    "# given a list of artist ids, output a list of genres associated with the artists\n",
    "def getArtistGenre(artist_id):\n",
    "    AUTH_URL = 'https://accounts.spotify.com/api/token'\n",
    "    auth_response = requests.post(AUTH_URL, {\n",
    "        'grant_type': 'client_credentials',\n",
    "        'client_id': '64d88f30bd6e47d5a99e11985fdd0bdb',\n",
    "        'client_secret': 'aa57afecfba4466bb0caeae430352b4c',})\n",
    "    auth_response_data = auth_response.json()\n",
    "    access_token = auth_response_data['access_token']\n",
    "    headers = {'Authorization': 'Bearer {token}'.format(token=access_token)}\n",
    "    BASE_URL = 'https://api.spotify.com/v1/artists/'\n",
    "    genres = []\n",
    "    for id in artist_id:\n",
    "        response = requests.get(BASE_URL + id, headers = headers) \n",
    "        raw = response.json()\n",
    "        genre = raw['genres']\n",
    "        genres = genres + genre\n",
    "\n",
    "    # playlist_fn = '/Users/jocekav/Documents/GitHub/Capstone/app/txt/' + str(uuid.uuid4()) + '_genres_rose.txt'\n",
    "    # np.savetxt(playlist_fn, genres, delimiter=\" \", fmt=\"%s\")\n",
    "    return genres"
   ]
  },
  {
   "cell_type": "code",
   "execution_count": 36,
   "metadata": {},
   "outputs": [],
   "source": [
    "genres = getArtistGenre(artists)"
   ]
  },
  {
   "cell_type": "code",
   "execution_count": 56,
   "metadata": {},
   "outputs": [],
   "source": [
    "# report overlapping genre (pull top songs from these genre?)\n",
    "def jointPlaylistV3(user1,user2):\n",
    "    user1ids = getPlaylists(user1)\n",
    "    user2ids = getPlaylists(user2)\n",
    "    user1artist = getArtistInLists(user1ids)\n",
    "    user2artist = getArtistInLists(user2ids)\n",
    "    user1genre = getArtistGenre(user1artist)\n",
    "    user2genre = getArtistGenre(user2artist)\n",
    "    jointgenre = list(set(user1genre).intersection(user2genre))\n",
    "    # display message: You both like these genres: jointgenre\n",
    "    return jointgenre"
   ]
  },
  {
   "cell_type": "code",
   "execution_count": 59,
   "metadata": {},
   "outputs": [
    {
     "name": "stdout",
     "output_type": "stream",
     "text": [
      "62\n",
      "141\n"
     ]
    },
    {
     "data": {
      "text/plain": [
       "['southern rock',\n",
       " 'quiet storm',\n",
       " 'soul',\n",
       " 'folk rock',\n",
       " 'alternative rock',\n",
       " 'electric blues',\n",
       " 'new wave pop',\n",
       " 'dance pop',\n",
       " 'hard rock',\n",
       " 'country rock',\n",
       " 'mellow gold',\n",
       " 'art pop',\n",
       " 'modern rock',\n",
       " 'motown',\n",
       " 'permanent wave',\n",
       " 'indie rock',\n",
       " 'rock',\n",
       " 'hi-nrg',\n",
       " 'singer-songwriter',\n",
       " 'blues rock',\n",
       " 'psychedelic rock',\n",
       " 'alternative dance',\n",
       " 'soft rock',\n",
       " 'british invasion',\n",
       " 'synthpop',\n",
       " 'new wave',\n",
       " 'indie r&b',\n",
       " 'modern blues rock',\n",
       " 'symphonic rock',\n",
       " 'new romantic',\n",
       " 'art rock',\n",
       " 'jazz funk',\n",
       " 'disco',\n",
       " 'classic rock',\n",
       " 'funk',\n",
       " 'album rock']"
      ]
     },
     "execution_count": 59,
     "metadata": {},
     "output_type": "execute_result"
    }
   ],
   "source": [
    "jointPlaylistV3(rose,yilin)"
   ]
  },
  {
   "cell_type": "code",
   "execution_count": 57,
   "metadata": {},
   "outputs": [],
   "source": [
    "# calculate a match score between two users\n",
    "def matchsummary(user1,user2):\n",
    "    v1 = len(jointPlaylistV1(user1,user2))\n",
    "    v2 = len(jointPlaylistV2(user1,user2))\n",
    "    v3 = len(jointPlaylistV3(user1,user2))\n",
    "    user1ids = getPlaylists(user1)\n",
    "    user2ids = getPlaylists(user2)\n",
    "    user1artist = getArtistInLists(user1ids)\n",
    "    user2artist = getArtistInLists(user2ids)\n",
    "    song1 = len(getSongInLists(user1ids))\n",
    "    song2 = len(getSongInLists(user2ids))\n",
    "    artist1 = len(getArtistInLists(user1ids))\n",
    "    artist2 = len(getArtistInLists(user2ids))\n",
    "    genre1 = len(set(getArtistGenre(user1artist)))\n",
    "    genre2 = len(set(getArtistGenre(user2artist)))\n",
    "    score1 = v1 / song1 + v2 / artist1 + v3 / genre1\n",
    "    score2 = v1 / song2 + v2 / artist2 + v3 / genre2\n",
    "    score = (score1 + score2) /2\n",
    "    return score"
   ]
  },
  {
   "cell_type": "code",
   "execution_count": 44,
   "metadata": {},
   "outputs": [
    {
     "name": "stdout",
     "output_type": "stream",
     "text": [
      "{'access_token': 'BQBcQ6LbVtoYsYmUx7a5LdZAcIUT7MKjssAEHa4cTekWbOp4csjtIm1xZwvgKGcHNp11wy_1YsLVGWmQb2Q', 'token_type': 'Bearer', 'expires_in': 3600}\n",
      "['5UXhz5GZkCwvtr5ijIg5Up', '7hO8sSVMJIsCYmmHwllEQS']\n",
      "{'access_token': 'BQDHT7QNz4u-fVozvQM8ELJn356QvJUuwIy54TIIYLRGiWHUVa-6q2XhUJQsR0tcaDnfA5r2tpqS7BTmEnA', 'token_type': 'Bearer', 'expires_in': 3600}\n",
      "['7DqCEiP3S72JxFp6NOsM83', '0B3PVR6Qctbi32oNIOwM4x', '41xsAoKL3nPqEoiFtuxDy3', '0lMJhMLGRd82cQSACoTzkF', '2PrmuYTD7VUwYzPcQ9wIcQ', '3GyX4u4OtxtlcapuEn2pRw']\n",
      "{'access_token': 'BQBwGXc3O8XTZ-xvi2VoqdX4_egmc-R2Cv5IhMDkY6ra_hhVWHZSj0wy6yfWOhSVU_MljxUrfkFgKNhk66M', 'token_type': 'Bearer', 'expires_in': 3600}\n",
      "{'access_token': 'BQCNka_FzJcBDJZpasHtP6CF5NDBwHSh9i0Bhv2-tkWDgmuGMeDZhtZz9nzSaiK6Bkoysfhq92W6q_xXL2I', 'token_type': 'Bearer', 'expires_in': 3600}\n",
      "{'access_token': 'BQCNk1nutonJwh-jOa51gd-Xbhoz4MiV8jWmxBKtnP_8r8TxOf7bTqC-JroAMGJZuhKa0rr2e21P9xdSPyM', 'token_type': 'Bearer', 'expires_in': 3600}\n",
      "['5UXhz5GZkCwvtr5ijIg5Up', '7hO8sSVMJIsCYmmHwllEQS']\n",
      "{'access_token': 'BQAR6qdUMqTzXB8IoxMwlX72vNYZO5wU-Yxn_4sDNw8hnpFLxsm7F47lxncTisU0t8_ecywlMM-R6Qrhm7A', 'token_type': 'Bearer', 'expires_in': 3600}\n",
      "['7DqCEiP3S72JxFp6NOsM83', '0B3PVR6Qctbi32oNIOwM4x', '41xsAoKL3nPqEoiFtuxDy3', '0lMJhMLGRd82cQSACoTzkF', '2PrmuYTD7VUwYzPcQ9wIcQ', '3GyX4u4OtxtlcapuEn2pRw']\n",
      "{'access_token': 'BQDB29jX51NW2NPxTQvZ2Fk4kmKN-iieKNXz1nBShSXThMBqUvcIMLXtJIoq7W4MenVpNxsE6iLJx6DUBBY', 'token_type': 'Bearer', 'expires_in': 3600}\n",
      "{'access_token': 'BQDO0_uTgyD02fFR9e3Bmm-YBEnL3Pw-AZTB73m9S4NU5yine4cqRK0PHV6ZETWmRgp18eilQUr8BJNBk50', 'token_type': 'Bearer', 'expires_in': 3600}\n",
      "{'access_token': 'BQCNWjQ5XW9j9PumbCCS8MfqUVs-_8jMslwgq01Sb9aCpnHRYG6jR5Wn6Md2ndYnU9RffZKpbEd_HzZAJbE', 'token_type': 'Bearer', 'expires_in': 3600}\n",
      "['5UXhz5GZkCwvtr5ijIg5Up', '7hO8sSVMJIsCYmmHwllEQS']\n",
      "{'access_token': 'BQBKis7evFMpscYFLtbKP7gBjMpRt0NvCNikmhiAmmJez6kz6rk93DF80u4Zcox9zBDv_ldXFhL1q7lAjkI', 'token_type': 'Bearer', 'expires_in': 3600}\n",
      "['7DqCEiP3S72JxFp6NOsM83', '0B3PVR6Qctbi32oNIOwM4x', '41xsAoKL3nPqEoiFtuxDy3', '0lMJhMLGRd82cQSACoTzkF', '2PrmuYTD7VUwYzPcQ9wIcQ', '3GyX4u4OtxtlcapuEn2pRw']\n"
     ]
    },
    {
     "ename": "KeyboardInterrupt",
     "evalue": "",
     "output_type": "error",
     "traceback": [
      "\u001b[0;31m---------------------------------------------------------------------------\u001b[0m",
      "\u001b[0;31mKeyboardInterrupt\u001b[0m                         Traceback (most recent call last)",
      "\u001b[0;32m<ipython-input-44-14bf8bbf18e9>\u001b[0m in \u001b[0;36m<module>\u001b[0;34m\u001b[0m\n\u001b[0;32m----> 1\u001b[0;31m \u001b[0mmatchsummary\u001b[0m\u001b[0;34m(\u001b[0m\u001b[0mrose\u001b[0m\u001b[0;34m,\u001b[0m\u001b[0myilin\u001b[0m\u001b[0;34m)\u001b[0m\u001b[0;34m\u001b[0m\u001b[0;34m\u001b[0m\u001b[0m\n\u001b[0m",
      "\u001b[0;32m<ipython-input-43-8edc34132184>\u001b[0m in \u001b[0;36mmatchsummary\u001b[0;34m(user1, user2)\u001b[0m\n\u001b[1;32m      3\u001b[0m     \u001b[0mv1\u001b[0m \u001b[0;34m=\u001b[0m \u001b[0mlen\u001b[0m\u001b[0;34m(\u001b[0m\u001b[0mjointPlaylistV1\u001b[0m\u001b[0;34m(\u001b[0m\u001b[0muser1\u001b[0m\u001b[0;34m,\u001b[0m\u001b[0muser2\u001b[0m\u001b[0;34m)\u001b[0m\u001b[0;34m)\u001b[0m\u001b[0;34m\u001b[0m\u001b[0;34m\u001b[0m\u001b[0m\n\u001b[1;32m      4\u001b[0m     \u001b[0mv2\u001b[0m \u001b[0;34m=\u001b[0m \u001b[0mlen\u001b[0m\u001b[0;34m(\u001b[0m\u001b[0mjointPlaylistV2\u001b[0m\u001b[0;34m(\u001b[0m\u001b[0muser1\u001b[0m\u001b[0;34m,\u001b[0m\u001b[0muser2\u001b[0m\u001b[0;34m)\u001b[0m\u001b[0;34m)\u001b[0m\u001b[0;34m\u001b[0m\u001b[0;34m\u001b[0m\u001b[0m\n\u001b[0;32m----> 5\u001b[0;31m     \u001b[0mv3\u001b[0m \u001b[0;34m=\u001b[0m \u001b[0mlen\u001b[0m\u001b[0;34m(\u001b[0m\u001b[0mjointPlaylistV3\u001b[0m\u001b[0;34m(\u001b[0m\u001b[0muser1\u001b[0m\u001b[0;34m,\u001b[0m\u001b[0muser2\u001b[0m\u001b[0;34m)\u001b[0m\u001b[0;34m)\u001b[0m\u001b[0;34m\u001b[0m\u001b[0;34m\u001b[0m\u001b[0m\n\u001b[0m\u001b[1;32m      6\u001b[0m     \u001b[0muser1ids\u001b[0m \u001b[0;34m=\u001b[0m \u001b[0mgetPlaylists\u001b[0m\u001b[0;34m(\u001b[0m\u001b[0muser1\u001b[0m\u001b[0;34m)\u001b[0m\u001b[0;34m\u001b[0m\u001b[0;34m\u001b[0m\u001b[0m\n\u001b[1;32m      7\u001b[0m     \u001b[0muser2ids\u001b[0m \u001b[0;34m=\u001b[0m \u001b[0mgetPlaylists\u001b[0m\u001b[0;34m(\u001b[0m\u001b[0muser2\u001b[0m\u001b[0;34m)\u001b[0m\u001b[0;34m\u001b[0m\u001b[0;34m\u001b[0m\u001b[0m\n",
      "\u001b[0;32m<ipython-input-42-bbee9c2c59c3>\u001b[0m in \u001b[0;36mjointPlaylistV3\u001b[0;34m(user1, user2)\u001b[0m\n\u001b[1;32m      6\u001b[0m     \u001b[0muser2artist\u001b[0m \u001b[0;34m=\u001b[0m \u001b[0mgetArtistInLists\u001b[0m\u001b[0;34m(\u001b[0m\u001b[0muser2ids\u001b[0m\u001b[0;34m)\u001b[0m\u001b[0;34m\u001b[0m\u001b[0;34m\u001b[0m\u001b[0m\n\u001b[1;32m      7\u001b[0m     \u001b[0muser1genre\u001b[0m \u001b[0;34m=\u001b[0m \u001b[0mgetArtistGenre\u001b[0m\u001b[0;34m(\u001b[0m\u001b[0muser1artist\u001b[0m\u001b[0;34m)\u001b[0m\u001b[0;34m\u001b[0m\u001b[0;34m\u001b[0m\u001b[0m\n\u001b[0;32m----> 8\u001b[0;31m     \u001b[0muser2genre\u001b[0m \u001b[0;34m=\u001b[0m \u001b[0mgetArtistGenre\u001b[0m\u001b[0;34m(\u001b[0m\u001b[0muser2artist\u001b[0m\u001b[0;34m)\u001b[0m\u001b[0;34m\u001b[0m\u001b[0;34m\u001b[0m\u001b[0m\n\u001b[0m\u001b[1;32m      9\u001b[0m     \u001b[0mjointgenre\u001b[0m \u001b[0;34m=\u001b[0m \u001b[0mlist\u001b[0m\u001b[0;34m(\u001b[0m\u001b[0mset\u001b[0m\u001b[0;34m(\u001b[0m\u001b[0muser1genre\u001b[0m\u001b[0;34m)\u001b[0m\u001b[0;34m.\u001b[0m\u001b[0mintersection\u001b[0m\u001b[0;34m(\u001b[0m\u001b[0muser2genre\u001b[0m\u001b[0;34m)\u001b[0m\u001b[0;34m)\u001b[0m\u001b[0;34m\u001b[0m\u001b[0;34m\u001b[0m\u001b[0m\n\u001b[1;32m     10\u001b[0m     \u001b[0;31m# display message: You both like these genres: jointgenre\u001b[0m\u001b[0;34m\u001b[0m\u001b[0;34m\u001b[0m\u001b[0;34m\u001b[0m\u001b[0m\n",
      "\u001b[0;32m<ipython-input-41-fc77978c4395>\u001b[0m in \u001b[0;36mgetArtistGenre\u001b[0;34m(artist_id)\u001b[0m\n\u001b[1;32m     12\u001b[0m     \u001b[0mgenres\u001b[0m \u001b[0;34m=\u001b[0m \u001b[0;34m[\u001b[0m\u001b[0;34m]\u001b[0m\u001b[0;34m\u001b[0m\u001b[0;34m\u001b[0m\u001b[0m\n\u001b[1;32m     13\u001b[0m     \u001b[0;32mfor\u001b[0m \u001b[0mid\u001b[0m \u001b[0;32min\u001b[0m \u001b[0martist_id\u001b[0m\u001b[0;34m:\u001b[0m\u001b[0;34m\u001b[0m\u001b[0;34m\u001b[0m\u001b[0m\n\u001b[0;32m---> 14\u001b[0;31m         \u001b[0mresponse\u001b[0m \u001b[0;34m=\u001b[0m \u001b[0mrequests\u001b[0m\u001b[0;34m.\u001b[0m\u001b[0mget\u001b[0m\u001b[0;34m(\u001b[0m\u001b[0mBASE_URL\u001b[0m \u001b[0;34m+\u001b[0m \u001b[0mid\u001b[0m\u001b[0;34m,\u001b[0m \u001b[0mheaders\u001b[0m \u001b[0;34m=\u001b[0m \u001b[0mheaders\u001b[0m\u001b[0;34m)\u001b[0m\u001b[0;34m\u001b[0m\u001b[0;34m\u001b[0m\u001b[0m\n\u001b[0m\u001b[1;32m     15\u001b[0m         \u001b[0mraw\u001b[0m \u001b[0;34m=\u001b[0m \u001b[0mresponse\u001b[0m\u001b[0;34m.\u001b[0m\u001b[0mjson\u001b[0m\u001b[0;34m(\u001b[0m\u001b[0;34m)\u001b[0m\u001b[0;34m\u001b[0m\u001b[0;34m\u001b[0m\u001b[0m\n\u001b[1;32m     16\u001b[0m         \u001b[0mgenre\u001b[0m \u001b[0;34m=\u001b[0m \u001b[0mraw\u001b[0m\u001b[0;34m[\u001b[0m\u001b[0;34m'genres'\u001b[0m\u001b[0;34m]\u001b[0m\u001b[0;34m\u001b[0m\u001b[0;34m\u001b[0m\u001b[0m\n",
      "\u001b[0;32m/Library/Frameworks/Python.framework/Versions/3.7/lib/python3.7/site-packages/requests/api.py\u001b[0m in \u001b[0;36mget\u001b[0;34m(url, params, **kwargs)\u001b[0m\n\u001b[1;32m     74\u001b[0m \u001b[0;34m\u001b[0m\u001b[0m\n\u001b[1;32m     75\u001b[0m     \u001b[0mkwargs\u001b[0m\u001b[0;34m.\u001b[0m\u001b[0msetdefault\u001b[0m\u001b[0;34m(\u001b[0m\u001b[0;34m'allow_redirects'\u001b[0m\u001b[0;34m,\u001b[0m \u001b[0;32mTrue\u001b[0m\u001b[0;34m)\u001b[0m\u001b[0;34m\u001b[0m\u001b[0;34m\u001b[0m\u001b[0m\n\u001b[0;32m---> 76\u001b[0;31m     \u001b[0;32mreturn\u001b[0m \u001b[0mrequest\u001b[0m\u001b[0;34m(\u001b[0m\u001b[0;34m'get'\u001b[0m\u001b[0;34m,\u001b[0m \u001b[0murl\u001b[0m\u001b[0;34m,\u001b[0m \u001b[0mparams\u001b[0m\u001b[0;34m=\u001b[0m\u001b[0mparams\u001b[0m\u001b[0;34m,\u001b[0m \u001b[0;34m**\u001b[0m\u001b[0mkwargs\u001b[0m\u001b[0;34m)\u001b[0m\u001b[0;34m\u001b[0m\u001b[0;34m\u001b[0m\u001b[0m\n\u001b[0m\u001b[1;32m     77\u001b[0m \u001b[0;34m\u001b[0m\u001b[0m\n\u001b[1;32m     78\u001b[0m \u001b[0;34m\u001b[0m\u001b[0m\n",
      "\u001b[0;32m/Library/Frameworks/Python.framework/Versions/3.7/lib/python3.7/site-packages/requests/api.py\u001b[0m in \u001b[0;36mrequest\u001b[0;34m(method, url, **kwargs)\u001b[0m\n\u001b[1;32m     59\u001b[0m     \u001b[0;31m# cases, and look like a memory leak in others.\u001b[0m\u001b[0;34m\u001b[0m\u001b[0;34m\u001b[0m\u001b[0;34m\u001b[0m\u001b[0m\n\u001b[1;32m     60\u001b[0m     \u001b[0;32mwith\u001b[0m \u001b[0msessions\u001b[0m\u001b[0;34m.\u001b[0m\u001b[0mSession\u001b[0m\u001b[0;34m(\u001b[0m\u001b[0;34m)\u001b[0m \u001b[0;32mas\u001b[0m \u001b[0msession\u001b[0m\u001b[0;34m:\u001b[0m\u001b[0;34m\u001b[0m\u001b[0;34m\u001b[0m\u001b[0m\n\u001b[0;32m---> 61\u001b[0;31m         \u001b[0;32mreturn\u001b[0m \u001b[0msession\u001b[0m\u001b[0;34m.\u001b[0m\u001b[0mrequest\u001b[0m\u001b[0;34m(\u001b[0m\u001b[0mmethod\u001b[0m\u001b[0;34m=\u001b[0m\u001b[0mmethod\u001b[0m\u001b[0;34m,\u001b[0m \u001b[0murl\u001b[0m\u001b[0;34m=\u001b[0m\u001b[0murl\u001b[0m\u001b[0;34m,\u001b[0m \u001b[0;34m**\u001b[0m\u001b[0mkwargs\u001b[0m\u001b[0;34m)\u001b[0m\u001b[0;34m\u001b[0m\u001b[0;34m\u001b[0m\u001b[0m\n\u001b[0m\u001b[1;32m     62\u001b[0m \u001b[0;34m\u001b[0m\u001b[0m\n\u001b[1;32m     63\u001b[0m \u001b[0;34m\u001b[0m\u001b[0m\n",
      "\u001b[0;32m/Library/Frameworks/Python.framework/Versions/3.7/lib/python3.7/site-packages/requests/sessions.py\u001b[0m in \u001b[0;36mrequest\u001b[0;34m(self, method, url, params, data, headers, cookies, files, auth, timeout, allow_redirects, proxies, hooks, stream, verify, cert, json)\u001b[0m\n\u001b[1;32m    528\u001b[0m         }\n\u001b[1;32m    529\u001b[0m         \u001b[0msend_kwargs\u001b[0m\u001b[0;34m.\u001b[0m\u001b[0mupdate\u001b[0m\u001b[0;34m(\u001b[0m\u001b[0msettings\u001b[0m\u001b[0;34m)\u001b[0m\u001b[0;34m\u001b[0m\u001b[0;34m\u001b[0m\u001b[0m\n\u001b[0;32m--> 530\u001b[0;31m         \u001b[0mresp\u001b[0m \u001b[0;34m=\u001b[0m \u001b[0mself\u001b[0m\u001b[0;34m.\u001b[0m\u001b[0msend\u001b[0m\u001b[0;34m(\u001b[0m\u001b[0mprep\u001b[0m\u001b[0;34m,\u001b[0m \u001b[0;34m**\u001b[0m\u001b[0msend_kwargs\u001b[0m\u001b[0;34m)\u001b[0m\u001b[0;34m\u001b[0m\u001b[0;34m\u001b[0m\u001b[0m\n\u001b[0m\u001b[1;32m    531\u001b[0m \u001b[0;34m\u001b[0m\u001b[0m\n\u001b[1;32m    532\u001b[0m         \u001b[0;32mreturn\u001b[0m \u001b[0mresp\u001b[0m\u001b[0;34m\u001b[0m\u001b[0;34m\u001b[0m\u001b[0m\n",
      "\u001b[0;32m/Library/Frameworks/Python.framework/Versions/3.7/lib/python3.7/site-packages/requests/sessions.py\u001b[0m in \u001b[0;36msend\u001b[0;34m(self, request, **kwargs)\u001b[0m\n\u001b[1;32m    641\u001b[0m \u001b[0;34m\u001b[0m\u001b[0m\n\u001b[1;32m    642\u001b[0m         \u001b[0;31m# Send the request\u001b[0m\u001b[0;34m\u001b[0m\u001b[0;34m\u001b[0m\u001b[0;34m\u001b[0m\u001b[0m\n\u001b[0;32m--> 643\u001b[0;31m         \u001b[0mr\u001b[0m \u001b[0;34m=\u001b[0m \u001b[0madapter\u001b[0m\u001b[0;34m.\u001b[0m\u001b[0msend\u001b[0m\u001b[0;34m(\u001b[0m\u001b[0mrequest\u001b[0m\u001b[0;34m,\u001b[0m \u001b[0;34m**\u001b[0m\u001b[0mkwargs\u001b[0m\u001b[0;34m)\u001b[0m\u001b[0;34m\u001b[0m\u001b[0;34m\u001b[0m\u001b[0m\n\u001b[0m\u001b[1;32m    644\u001b[0m \u001b[0;34m\u001b[0m\u001b[0m\n\u001b[1;32m    645\u001b[0m         \u001b[0;31m# Total elapsed time of the request (approximately)\u001b[0m\u001b[0;34m\u001b[0m\u001b[0;34m\u001b[0m\u001b[0;34m\u001b[0m\u001b[0m\n",
      "\u001b[0;32m/Library/Frameworks/Python.framework/Versions/3.7/lib/python3.7/site-packages/requests/adapters.py\u001b[0m in \u001b[0;36msend\u001b[0;34m(self, request, stream, timeout, verify, cert, proxies)\u001b[0m\n\u001b[1;32m    447\u001b[0m                     \u001b[0mdecode_content\u001b[0m\u001b[0;34m=\u001b[0m\u001b[0;32mFalse\u001b[0m\u001b[0;34m,\u001b[0m\u001b[0;34m\u001b[0m\u001b[0;34m\u001b[0m\u001b[0m\n\u001b[1;32m    448\u001b[0m                     \u001b[0mretries\u001b[0m\u001b[0;34m=\u001b[0m\u001b[0mself\u001b[0m\u001b[0;34m.\u001b[0m\u001b[0mmax_retries\u001b[0m\u001b[0;34m,\u001b[0m\u001b[0;34m\u001b[0m\u001b[0;34m\u001b[0m\u001b[0m\n\u001b[0;32m--> 449\u001b[0;31m                     \u001b[0mtimeout\u001b[0m\u001b[0;34m=\u001b[0m\u001b[0mtimeout\u001b[0m\u001b[0;34m\u001b[0m\u001b[0;34m\u001b[0m\u001b[0m\n\u001b[0m\u001b[1;32m    450\u001b[0m                 )\n\u001b[1;32m    451\u001b[0m \u001b[0;34m\u001b[0m\u001b[0m\n",
      "\u001b[0;32m/Library/Frameworks/Python.framework/Versions/3.7/lib/python3.7/site-packages/urllib3/connectionpool.py\u001b[0m in \u001b[0;36murlopen\u001b[0;34m(self, method, url, body, headers, retries, redirect, assert_same_host, timeout, pool_timeout, release_conn, chunked, body_pos, **response_kw)\u001b[0m\n\u001b[1;32m    675\u001b[0m                 \u001b[0mbody\u001b[0m\u001b[0;34m=\u001b[0m\u001b[0mbody\u001b[0m\u001b[0;34m,\u001b[0m\u001b[0;34m\u001b[0m\u001b[0;34m\u001b[0m\u001b[0m\n\u001b[1;32m    676\u001b[0m                 \u001b[0mheaders\u001b[0m\u001b[0;34m=\u001b[0m\u001b[0mheaders\u001b[0m\u001b[0;34m,\u001b[0m\u001b[0;34m\u001b[0m\u001b[0;34m\u001b[0m\u001b[0m\n\u001b[0;32m--> 677\u001b[0;31m                 \u001b[0mchunked\u001b[0m\u001b[0;34m=\u001b[0m\u001b[0mchunked\u001b[0m\u001b[0;34m,\u001b[0m\u001b[0;34m\u001b[0m\u001b[0;34m\u001b[0m\u001b[0m\n\u001b[0m\u001b[1;32m    678\u001b[0m             )\n\u001b[1;32m    679\u001b[0m \u001b[0;34m\u001b[0m\u001b[0m\n",
      "\u001b[0;32m/Library/Frameworks/Python.framework/Versions/3.7/lib/python3.7/site-packages/urllib3/connectionpool.py\u001b[0m in \u001b[0;36m_make_request\u001b[0;34m(self, conn, method, url, timeout, chunked, **httplib_request_kw)\u001b[0m\n\u001b[1;32m    379\u001b[0m         \u001b[0;31m# Trigger any extra validation we need to do.\u001b[0m\u001b[0;34m\u001b[0m\u001b[0;34m\u001b[0m\u001b[0;34m\u001b[0m\u001b[0m\n\u001b[1;32m    380\u001b[0m         \u001b[0;32mtry\u001b[0m\u001b[0;34m:\u001b[0m\u001b[0;34m\u001b[0m\u001b[0;34m\u001b[0m\u001b[0m\n\u001b[0;32m--> 381\u001b[0;31m             \u001b[0mself\u001b[0m\u001b[0;34m.\u001b[0m\u001b[0m_validate_conn\u001b[0m\u001b[0;34m(\u001b[0m\u001b[0mconn\u001b[0m\u001b[0;34m)\u001b[0m\u001b[0;34m\u001b[0m\u001b[0;34m\u001b[0m\u001b[0m\n\u001b[0m\u001b[1;32m    382\u001b[0m         \u001b[0;32mexcept\u001b[0m \u001b[0;34m(\u001b[0m\u001b[0mSocketTimeout\u001b[0m\u001b[0;34m,\u001b[0m \u001b[0mBaseSSLError\u001b[0m\u001b[0;34m)\u001b[0m \u001b[0;32mas\u001b[0m \u001b[0me\u001b[0m\u001b[0;34m:\u001b[0m\u001b[0;34m\u001b[0m\u001b[0;34m\u001b[0m\u001b[0m\n\u001b[1;32m    383\u001b[0m             \u001b[0;31m# Py2 raises this as a BaseSSLError, Py3 raises it as socket timeout.\u001b[0m\u001b[0;34m\u001b[0m\u001b[0;34m\u001b[0m\u001b[0;34m\u001b[0m\u001b[0m\n",
      "\u001b[0;32m/Library/Frameworks/Python.framework/Versions/3.7/lib/python3.7/site-packages/urllib3/connectionpool.py\u001b[0m in \u001b[0;36m_validate_conn\u001b[0;34m(self, conn)\u001b[0m\n\u001b[1;32m    976\u001b[0m         \u001b[0;31m# Force connect early to allow us to validate the connection.\u001b[0m\u001b[0;34m\u001b[0m\u001b[0;34m\u001b[0m\u001b[0;34m\u001b[0m\u001b[0m\n\u001b[1;32m    977\u001b[0m         \u001b[0;32mif\u001b[0m \u001b[0;32mnot\u001b[0m \u001b[0mgetattr\u001b[0m\u001b[0;34m(\u001b[0m\u001b[0mconn\u001b[0m\u001b[0;34m,\u001b[0m \u001b[0;34m\"sock\"\u001b[0m\u001b[0;34m,\u001b[0m \u001b[0;32mNone\u001b[0m\u001b[0;34m)\u001b[0m\u001b[0;34m:\u001b[0m  \u001b[0;31m# AppEngine might not have  `.sock`\u001b[0m\u001b[0;34m\u001b[0m\u001b[0;34m\u001b[0m\u001b[0m\n\u001b[0;32m--> 978\u001b[0;31m             \u001b[0mconn\u001b[0m\u001b[0;34m.\u001b[0m\u001b[0mconnect\u001b[0m\u001b[0;34m(\u001b[0m\u001b[0;34m)\u001b[0m\u001b[0;34m\u001b[0m\u001b[0;34m\u001b[0m\u001b[0m\n\u001b[0m\u001b[1;32m    979\u001b[0m \u001b[0;34m\u001b[0m\u001b[0m\n\u001b[1;32m    980\u001b[0m         \u001b[0;32mif\u001b[0m \u001b[0;32mnot\u001b[0m \u001b[0mconn\u001b[0m\u001b[0;34m.\u001b[0m\u001b[0mis_verified\u001b[0m\u001b[0;34m:\u001b[0m\u001b[0;34m\u001b[0m\u001b[0;34m\u001b[0m\u001b[0m\n",
      "\u001b[0;32m/Library/Frameworks/Python.framework/Versions/3.7/lib/python3.7/site-packages/urllib3/connection.py\u001b[0m in \u001b[0;36mconnect\u001b[0;34m(self)\u001b[0m\n\u001b[1;32m    369\u001b[0m             \u001b[0mca_cert_data\u001b[0m\u001b[0;34m=\u001b[0m\u001b[0mself\u001b[0m\u001b[0;34m.\u001b[0m\u001b[0mca_cert_data\u001b[0m\u001b[0;34m,\u001b[0m\u001b[0;34m\u001b[0m\u001b[0;34m\u001b[0m\u001b[0m\n\u001b[1;32m    370\u001b[0m             \u001b[0mserver_hostname\u001b[0m\u001b[0;34m=\u001b[0m\u001b[0mserver_hostname\u001b[0m\u001b[0;34m,\u001b[0m\u001b[0;34m\u001b[0m\u001b[0;34m\u001b[0m\u001b[0m\n\u001b[0;32m--> 371\u001b[0;31m             \u001b[0mssl_context\u001b[0m\u001b[0;34m=\u001b[0m\u001b[0mcontext\u001b[0m\u001b[0;34m,\u001b[0m\u001b[0;34m\u001b[0m\u001b[0;34m\u001b[0m\u001b[0m\n\u001b[0m\u001b[1;32m    372\u001b[0m         )\n\u001b[1;32m    373\u001b[0m \u001b[0;34m\u001b[0m\u001b[0m\n",
      "\u001b[0;32m/Library/Frameworks/Python.framework/Versions/3.7/lib/python3.7/site-packages/urllib3/util/ssl_.py\u001b[0m in \u001b[0;36mssl_wrap_socket\u001b[0;34m(sock, keyfile, certfile, cert_reqs, ca_certs, server_hostname, ssl_version, ciphers, ssl_context, ca_cert_dir, key_password, ca_cert_data)\u001b[0m\n\u001b[1;32m    382\u001b[0m     ) or IS_SECURETRANSPORT:\n\u001b[1;32m    383\u001b[0m         \u001b[0;32mif\u001b[0m \u001b[0mHAS_SNI\u001b[0m \u001b[0;32mand\u001b[0m \u001b[0mserver_hostname\u001b[0m \u001b[0;32mis\u001b[0m \u001b[0;32mnot\u001b[0m \u001b[0;32mNone\u001b[0m\u001b[0;34m:\u001b[0m\u001b[0;34m\u001b[0m\u001b[0;34m\u001b[0m\u001b[0m\n\u001b[0;32m--> 384\u001b[0;31m             \u001b[0;32mreturn\u001b[0m \u001b[0mcontext\u001b[0m\u001b[0;34m.\u001b[0m\u001b[0mwrap_socket\u001b[0m\u001b[0;34m(\u001b[0m\u001b[0msock\u001b[0m\u001b[0;34m,\u001b[0m \u001b[0mserver_hostname\u001b[0m\u001b[0;34m=\u001b[0m\u001b[0mserver_hostname\u001b[0m\u001b[0;34m)\u001b[0m\u001b[0;34m\u001b[0m\u001b[0;34m\u001b[0m\u001b[0m\n\u001b[0m\u001b[1;32m    385\u001b[0m \u001b[0;34m\u001b[0m\u001b[0m\n\u001b[1;32m    386\u001b[0m         warnings.warn(\n",
      "\u001b[0;32m/Library/Frameworks/Python.framework/Versions/3.7/lib/python3.7/ssl.py\u001b[0m in \u001b[0;36mwrap_socket\u001b[0;34m(self, sock, server_side, do_handshake_on_connect, suppress_ragged_eofs, server_hostname, session)\u001b[0m\n\u001b[1;32m    421\u001b[0m             \u001b[0mserver_hostname\u001b[0m\u001b[0;34m=\u001b[0m\u001b[0mserver_hostname\u001b[0m\u001b[0;34m,\u001b[0m\u001b[0;34m\u001b[0m\u001b[0;34m\u001b[0m\u001b[0m\n\u001b[1;32m    422\u001b[0m             \u001b[0mcontext\u001b[0m\u001b[0;34m=\u001b[0m\u001b[0mself\u001b[0m\u001b[0;34m,\u001b[0m\u001b[0;34m\u001b[0m\u001b[0;34m\u001b[0m\u001b[0m\n\u001b[0;32m--> 423\u001b[0;31m             \u001b[0msession\u001b[0m\u001b[0;34m=\u001b[0m\u001b[0msession\u001b[0m\u001b[0;34m\u001b[0m\u001b[0;34m\u001b[0m\u001b[0m\n\u001b[0m\u001b[1;32m    424\u001b[0m         )\n\u001b[1;32m    425\u001b[0m \u001b[0;34m\u001b[0m\u001b[0m\n",
      "\u001b[0;32m/Library/Frameworks/Python.framework/Versions/3.7/lib/python3.7/ssl.py\u001b[0m in \u001b[0;36m_create\u001b[0;34m(cls, sock, server_side, do_handshake_on_connect, suppress_ragged_eofs, server_hostname, context, session)\u001b[0m\n\u001b[1;32m    868\u001b[0m                         \u001b[0;31m# non-blocking\u001b[0m\u001b[0;34m\u001b[0m\u001b[0;34m\u001b[0m\u001b[0;34m\u001b[0m\u001b[0m\n\u001b[1;32m    869\u001b[0m                         \u001b[0;32mraise\u001b[0m \u001b[0mValueError\u001b[0m\u001b[0;34m(\u001b[0m\u001b[0;34m\"do_handshake_on_connect should not be specified for non-blocking sockets\"\u001b[0m\u001b[0;34m)\u001b[0m\u001b[0;34m\u001b[0m\u001b[0;34m\u001b[0m\u001b[0m\n\u001b[0;32m--> 870\u001b[0;31m                     \u001b[0mself\u001b[0m\u001b[0;34m.\u001b[0m\u001b[0mdo_handshake\u001b[0m\u001b[0;34m(\u001b[0m\u001b[0;34m)\u001b[0m\u001b[0;34m\u001b[0m\u001b[0;34m\u001b[0m\u001b[0m\n\u001b[0m\u001b[1;32m    871\u001b[0m             \u001b[0;32mexcept\u001b[0m \u001b[0;34m(\u001b[0m\u001b[0mOSError\u001b[0m\u001b[0;34m,\u001b[0m \u001b[0mValueError\u001b[0m\u001b[0;34m)\u001b[0m\u001b[0;34m:\u001b[0m\u001b[0;34m\u001b[0m\u001b[0;34m\u001b[0m\u001b[0m\n\u001b[1;32m    872\u001b[0m                 \u001b[0mself\u001b[0m\u001b[0;34m.\u001b[0m\u001b[0mclose\u001b[0m\u001b[0;34m(\u001b[0m\u001b[0;34m)\u001b[0m\u001b[0;34m\u001b[0m\u001b[0;34m\u001b[0m\u001b[0m\n",
      "\u001b[0;32m/Library/Frameworks/Python.framework/Versions/3.7/lib/python3.7/ssl.py\u001b[0m in \u001b[0;36mdo_handshake\u001b[0;34m(self, block)\u001b[0m\n\u001b[1;32m   1137\u001b[0m             \u001b[0;32mif\u001b[0m \u001b[0mtimeout\u001b[0m \u001b[0;34m==\u001b[0m \u001b[0;36m0.0\u001b[0m \u001b[0;32mand\u001b[0m \u001b[0mblock\u001b[0m\u001b[0;34m:\u001b[0m\u001b[0;34m\u001b[0m\u001b[0;34m\u001b[0m\u001b[0m\n\u001b[1;32m   1138\u001b[0m                 \u001b[0mself\u001b[0m\u001b[0;34m.\u001b[0m\u001b[0msettimeout\u001b[0m\u001b[0;34m(\u001b[0m\u001b[0;32mNone\u001b[0m\u001b[0;34m)\u001b[0m\u001b[0;34m\u001b[0m\u001b[0;34m\u001b[0m\u001b[0m\n\u001b[0;32m-> 1139\u001b[0;31m             \u001b[0mself\u001b[0m\u001b[0;34m.\u001b[0m\u001b[0m_sslobj\u001b[0m\u001b[0;34m.\u001b[0m\u001b[0mdo_handshake\u001b[0m\u001b[0;34m(\u001b[0m\u001b[0;34m)\u001b[0m\u001b[0;34m\u001b[0m\u001b[0;34m\u001b[0m\u001b[0m\n\u001b[0m\u001b[1;32m   1140\u001b[0m         \u001b[0;32mfinally\u001b[0m\u001b[0;34m:\u001b[0m\u001b[0;34m\u001b[0m\u001b[0;34m\u001b[0m\u001b[0m\n\u001b[1;32m   1141\u001b[0m             \u001b[0mself\u001b[0m\u001b[0;34m.\u001b[0m\u001b[0msettimeout\u001b[0m\u001b[0;34m(\u001b[0m\u001b[0mtimeout\u001b[0m\u001b[0;34m)\u001b[0m\u001b[0;34m\u001b[0m\u001b[0;34m\u001b[0m\u001b[0m\n",
      "\u001b[0;31mKeyboardInterrupt\u001b[0m: "
     ]
    }
   ],
   "source": [
    "matchsummary(rose,yilin)"
   ]
  },
  {
   "cell_type": "code",
   "execution_count": null,
   "metadata": {},
   "outputs": [],
   "source": [
    "def matchsummary(user1,user2):\n",
    "    v1 = len(jointPlaylistV1(user1,user2))\n",
    "    v2 = len(jointPlaylistV2(user1,user2))\n",
    "    v3 = len(jointPlaylistV3(user1,user2))\n",
    "    user1ids = getPlaylists(user1)\n",
    "    user2ids = getPlaylists(user2)\n",
    "    user1artist = getArtistInLists(user1ids)\n",
    "    user2artist = getArtistInLists(user2ids)\n",
    "    song1 = len(getSongInLists(user1ids))\n",
    "    song2 = len(getSongInLists(user2ids))\n",
    "    artist1 = len(getArtistInLists(user1ids))\n",
    "    artist2 = len(getArtistInLists(user2ids))\n",
    "    genre1 = len(set(getArtistGenre(user1artist)))\n",
    "    genre2 = len(set(getArtistGenre(user2artist)))\n",
    "    score1 = v1 / song1 + v2 / artist1 + v3 / genre1\n",
    "    score2 = v1 / song2 + v2 / artist2 + v3 / genre2\n",
    "    score = (score1 + score2) /2\n",
    "    return score"
   ]
  },
  {
   "cell_type": "code",
   "execution_count": 58,
   "metadata": {},
   "outputs": [
    {
     "name": "stdout",
     "output_type": "stream",
     "text": [
      "{'access_token': 'BQCk4YyzDKb8CJvkSNEnn8eDbspo0l-vjByuBbC8a68RlPYzPyp43q4qSlDYOBGBAK0-8KNmYvzGqr6_eDg', 'token_type': 'Bearer', 'expires_in': 3600}\n",
      "['161Ez0r9LCh1KiFR11jn0g', '4Li9jIu93X5WNPSpr3g7rZ', '74NwPqsZ98zXPArfCK2I7D', '1vbZHZt1SEKDq1HQPm9O19', '4RsBRzjRWTIC47IPy0o4an', '4ueIoR1tyNe0u5m79opbaQ', '3m7gnbeMwrTaqNzfpMmCDj', '1c4Na9Jwtk590zFZf9dg3F', '7kpzl0dOAZIzZERq9UqWb8', '4Pv3PmnFAMyeVLV7JSuqDi', '2eitJUBeqFmHB4iBlPCnOk', '73yY66FgkvBLvEXjeBB5rT', '6GwtFzmwY7boy7g1nm01cp', '4hAJBSW2653wWwxES5F50F', '4SdX3sLv7FW5Ol9IT4E0Gp', '0gatFtUSWm4qFWRxwEt6g7']\n",
      "{'access_token': 'BQAgGuB0EYE7F_PUOKDN9-wm2Ne3GWIpXPbPgzHvuPCrICdb2ODhhcGf4HaF_By0SncZFtJBacAcIkvLpWk', 'token_type': 'Bearer', 'expires_in': 3600}\n",
      "['7DqCEiP3S72JxFp6NOsM83', '0B3PVR6Qctbi32oNIOwM4x', '41xsAoKL3nPqEoiFtuxDy3', '0lMJhMLGRd82cQSACoTzkF', '2PrmuYTD7VUwYzPcQ9wIcQ', '3GyX4u4OtxtlcapuEn2pRw']\n",
      "{'access_token': 'BQCX2Iv11VzJMsxHgO8dB37KN4ggKS0OjsRkHwanOLkbIW2OE7b4KRMaPffQZyaEJU7_s21VZtRkl_HdGho', 'token_type': 'Bearer', 'expires_in': 3600}\n",
      "{'access_token': 'BQDKGysCwaQDxDwljdJREPfX17gCHGidcQeB7UMZLZDVfEBFC8uVsS8Z8jSo3fA4uQPDe24DPvS1JtgnoeQ', 'token_type': 'Bearer', 'expires_in': 3600}\n",
      "{'access_token': 'BQBGVQr5s8G-144TPllGIOjmuJkn63xyfciNb_lN0L4W4oaIs381otFIMHHdGJeFRfMKySH2GhefZCYEjFs', 'token_type': 'Bearer', 'expires_in': 3600}\n",
      "['161Ez0r9LCh1KiFR11jn0g', '4Li9jIu93X5WNPSpr3g7rZ', '74NwPqsZ98zXPArfCK2I7D', '1vbZHZt1SEKDq1HQPm9O19', '4RsBRzjRWTIC47IPy0o4an', '4ueIoR1tyNe0u5m79opbaQ', '3m7gnbeMwrTaqNzfpMmCDj', '1c4Na9Jwtk590zFZf9dg3F', '7kpzl0dOAZIzZERq9UqWb8', '4Pv3PmnFAMyeVLV7JSuqDi', '2eitJUBeqFmHB4iBlPCnOk', '73yY66FgkvBLvEXjeBB5rT', '6GwtFzmwY7boy7g1nm01cp', '4hAJBSW2653wWwxES5F50F', '4SdX3sLv7FW5Ol9IT4E0Gp', '0gatFtUSWm4qFWRxwEt6g7']\n",
      "{'access_token': 'BQBavBqtxFqy74hVa8QS4nA9eMnKS4SvzDFQXlC3QtkADj5u4M76l8iaImtmmVikM-mvk5kUdAQjUMi5bj0', 'token_type': 'Bearer', 'expires_in': 3600}\n",
      "['7DqCEiP3S72JxFp6NOsM83', '0B3PVR6Qctbi32oNIOwM4x', '41xsAoKL3nPqEoiFtuxDy3', '0lMJhMLGRd82cQSACoTzkF', '2PrmuYTD7VUwYzPcQ9wIcQ', '3GyX4u4OtxtlcapuEn2pRw']\n",
      "{'access_token': 'BQDcKClBTV1ScjyPDFa4pJscPHUSlG3pO5mxP2PCBb5yExRHiuw4XhD_Bg30yGSdrU1RN3Es7eR0flBRyU4', 'token_type': 'Bearer', 'expires_in': 3600}\n",
      "{'access_token': 'BQDPVbI7WhcsmroxyV0CxK3iTsZ6_mGTZR533fqUyZtXbqSibuPGFANlJMCY_4xxuyqttmSWI7ndjSLfb58', 'token_type': 'Bearer', 'expires_in': 3600}\n",
      "{'access_token': 'BQCRt0dD7oPhEswWLYjpnImazyYEjGQFBJ3ZUzkXwIlsWgYptCh_4p8_DnBo3TWw5IEd4q6YPVDYiYB7uMQ', 'token_type': 'Bearer', 'expires_in': 3600}\n",
      "['161Ez0r9LCh1KiFR11jn0g', '4Li9jIu93X5WNPSpr3g7rZ', '74NwPqsZ98zXPArfCK2I7D', '1vbZHZt1SEKDq1HQPm9O19', '4RsBRzjRWTIC47IPy0o4an', '4ueIoR1tyNe0u5m79opbaQ', '3m7gnbeMwrTaqNzfpMmCDj', '1c4Na9Jwtk590zFZf9dg3F', '7kpzl0dOAZIzZERq9UqWb8', '4Pv3PmnFAMyeVLV7JSuqDi', '2eitJUBeqFmHB4iBlPCnOk', '73yY66FgkvBLvEXjeBB5rT', '6GwtFzmwY7boy7g1nm01cp', '4hAJBSW2653wWwxES5F50F', '4SdX3sLv7FW5Ol9IT4E0Gp', '0gatFtUSWm4qFWRxwEt6g7']\n",
      "{'access_token': 'BQBs3TTvtLDwlbskLrf32QvFM1yUmKsXxB36YFnwadq6B4HKbxKxY4GYaE-yNxiNsjKwEaiR4ekrSqLWg50', 'token_type': 'Bearer', 'expires_in': 3600}\n",
      "['7DqCEiP3S72JxFp6NOsM83', '0B3PVR6Qctbi32oNIOwM4x', '41xsAoKL3nPqEoiFtuxDy3', '0lMJhMLGRd82cQSACoTzkF', '2PrmuYTD7VUwYzPcQ9wIcQ', '3GyX4u4OtxtlcapuEn2pRw']\n",
      "{'access_token': 'BQBQirZQ96Ho1OriSfQ4EJQF8UQ8stSsCZ3r1Nmbze0wMfpdhOsPViLaHSj57JuYvYZw4YGrxKRJmTu3YTE', 'token_type': 'Bearer', 'expires_in': 3600}\n",
      "['161Ez0r9LCh1KiFR11jn0g', '4Li9jIu93X5WNPSpr3g7rZ', '74NwPqsZ98zXPArfCK2I7D', '1vbZHZt1SEKDq1HQPm9O19', '4RsBRzjRWTIC47IPy0o4an', '4ueIoR1tyNe0u5m79opbaQ', '3m7gnbeMwrTaqNzfpMmCDj', '1c4Na9Jwtk590zFZf9dg3F', '7kpzl0dOAZIzZERq9UqWb8', '4Pv3PmnFAMyeVLV7JSuqDi', '2eitJUBeqFmHB4iBlPCnOk', '73yY66FgkvBLvEXjeBB5rT', '6GwtFzmwY7boy7g1nm01cp', '4hAJBSW2653wWwxES5F50F', '4SdX3sLv7FW5Ol9IT4E0Gp', '0gatFtUSWm4qFWRxwEt6g7']\n",
      "{'access_token': 'BQAK66oAUEZsgIhmylfKNJspYoeRfnAbj8GDVEqlIkOgjSfp3rRPqS0gbApuPKOhmX_Ux5v9D0Xh3JNl3hw', 'token_type': 'Bearer', 'expires_in': 3600}\n",
      "['7DqCEiP3S72JxFp6NOsM83', '0B3PVR6Qctbi32oNIOwM4x', '41xsAoKL3nPqEoiFtuxDy3', '0lMJhMLGRd82cQSACoTzkF', '2PrmuYTD7VUwYzPcQ9wIcQ', '3GyX4u4OtxtlcapuEn2pRw']\n",
      "{'access_token': 'BQAYSiOeuQiYGTi4NqiR-pTNMisxJxQTt0jA-QUrp4OTZ2mWLzNSLaCv7kXKqAaeJakvW-Y2kMeIeOW-tH8', 'token_type': 'Bearer', 'expires_in': 3600}\n",
      "{'access_token': 'BQCyETbVL4dDJpkB42wr0y93SfhRRcIdprQlfXV2rDL0NN2hmxyTZPfbWbTC3COyqkViDAoxrPUbHej6mlc', 'token_type': 'Bearer', 'expires_in': 3600}\n"
     ]
    },
    {
     "data": {
      "text/plain": [
       "0.3200862481301667"
      ]
     },
     "execution_count": 58,
     "metadata": {},
     "output_type": "execute_result"
    }
   ],
   "source": [
    "matchsummary(joce,yilin)"
   ]
  },
  {
   "cell_type": "code",
   "execution_count": 81,
   "metadata": {},
   "outputs": [
    {
     "data": {
      "text/plain": [
       "0.5705013454122895"
      ]
     },
     "execution_count": 81,
     "metadata": {},
     "output_type": "execute_result"
    }
   ],
   "source": [
    "matchsummary(joce,rose)"
   ]
  },
  {
   "cell_type": "code",
   "execution_count": null,
   "metadata": {},
   "outputs": [],
   "source": []
  }
 ],
 "metadata": {
  "interpreter": {
   "hash": "aee8b7b246df8f9039afb4144a1f6fd8d2ca17a180786b69acc140d282b71a49"
  },
  "kernelspec": {
   "display_name": "Python 3.9.7 64-bit",
   "name": "python3"
  },
  "language_info": {
   "codemirror_mode": {
    "name": "ipython",
    "version": 3
   },
   "file_extension": ".py",
   "mimetype": "text/x-python",
   "name": "python",
   "nbconvert_exporter": "python",
   "pygments_lexer": "ipython3",
   "version": "3.7.4"
  },
  "orig_nbformat": 4
 },
 "nbformat": 4,
 "nbformat_minor": 2
}
